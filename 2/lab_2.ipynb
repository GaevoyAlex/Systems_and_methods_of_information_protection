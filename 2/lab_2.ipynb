{
 "cells": [
  {
   "attachments": {},
   "cell_type": "markdown",
   "metadata": {},
   "source": [
    "Шифр цезаря со стороны отправителя (шифратор)"
   ]
  },
  {
   "cell_type": "code",
   "execution_count": 26,
   "metadata": {},
   "outputs": [
    {
     "name": "stdout",
     "output_type": "stream",
     "text": [
      "Зашифрованный текст: сткдзфуфдха, орл жтхе\n"
     ]
    }
   ],
   "source": [
    "def encrypt_caesar(text, shift):\n",
    "    result = []\n",
    "    for char in text:\n",
    "        if char.isalpha():\n",
    "            is_upper = char.isupper()\n",
    "            char = char.lower()\n",
    "            char_code = ord(char)\n",
    "            char_code = (char_code - ord('а') + shift) % 32 + ord('а')\n",
    "            if is_upper:\n",
    "                char = chr(char_code).upper()\n",
    "            else:\n",
    "                char = chr(char_code)\n",
    "        result.append(char)\n",
    "    return ''.join(result)\n",
    "\n",
    "def main():\n",
    "    text = input(\"Введите текст на русском языке: \")\n",
    "    shift = int(input(\"Введите сдвиг: \"))\n",
    "    \n",
    "    encrypted_text = encrypt_caesar(text, shift)\n",
    "    \n",
    "    print(\"Зашифрованный текст:\", encrypted_text)\n",
    "    \n",
    "\n",
    "if __name__ == \"__main__\":\n",
    "    main()\n"
   ]
  },
  {
   "attachments": {},
   "cell_type": "markdown",
   "metadata": {},
   "source": [
    "Шифр Цезарь со стороны получателя (дешифратор)"
   ]
  },
  {
   "cell_type": "code",
   "execution_count": 10,
   "metadata": {},
   "outputs": [
    {
     "name": "stdout",
     "output_type": "stream",
     "text": [
      "Расшифрованный текст: приветствую, мой друг\n"
     ]
    }
   ],
   "source": [
    "def decrypt_caesar(ciphertext, shift):\n",
    "    result = []\n",
    "    for char in ciphertext:\n",
    "        if char.isalpha():\n",
    "            is_upper = char.isupper()\n",
    "            char = char.lower()\n",
    "            char_code = ord(char)\n",
    "            char_code = (char_code - ord('а') - shift) % 32 + ord('а')\n",
    "            if char_code < ord('а'):\n",
    "                char_code += 32\n",
    "            if is_upper:\n",
    "                char = chr(char_code).upper()\n",
    "            else:\n",
    "                char = chr(char_code)\n",
    "        result.append(char)\n",
    "    return ''.join(result)\n",
    "\n",
    "def main():\n",
    "    ciphertext = input(\"Введите зашифрованный текст на русском языке: \")\n",
    "    shift = int(input(\"Введите сдвиг: \"))\n",
    "    \n",
    "    decrypted_text = decrypt_caesar(ciphertext, shift)\n",
    "    \n",
    "    print(\"Расшифрованный текст:\", decrypted_text)\n",
    "\n",
    "if __name__ == \"__main__\":\n",
    "    main()\n"
   ]
  },
  {
   "attachments": {},
   "cell_type": "markdown",
   "metadata": {},
   "source": [
    "Атака полным перебором ключа"
   ]
  },
  {
   "cell_type": "code",
   "execution_count": 11,
   "metadata": {},
   "outputs": [
    {
     "name": "stdout",
     "output_type": "stream",
     "text": [
      "Сдвиг 0: тулеихфхецб, псм зуцж\n",
      "Сдвиг 1: сткдзфуфдха, орл жтхе\n",
      "Сдвиг 2: рсйгжутугфя, нпк есфд\n",
      "Сдвиг 3: приветствую, мой друг\n",
      "Сдвиг 4: опзбдсрсбтэ, лни гптв\n",
      "Сдвиг 5: ножагрпрась, кмз восб\n",
      "Сдвиг 6: мнеявпопяры, йлж бнра\n",
      "Сдвиг 7: лмдюбоноюпъ, ике ампя\n",
      "Сдвиг 8: клгэанмнэощ, зйд ялою\n",
      "Сдвиг 9: йквьямлмьнш, жиг юкнэ\n",
      "Сдвиг 10: ийбыюлклымч, езв эймь\n",
      "Сдвиг 11: зиаъэкйкълц, джб ьилы\n",
      "Сдвиг 12: жзящьйийщкх, геа ызкъ\n",
      "Сдвиг 13: ежюшыизишйф, вдя ъжйщ\n",
      "Сдвиг 14: деэчъзжзчиу, бгю щеиш\n",
      "Сдвиг 15: гдьцщжежцзт, авэ шдзч\n",
      "Сдвиг 16: вгыхшедехжс, ябь чгжц\n",
      "Сдвиг 17: бвъфчдгдфер, юаы цвех\n",
      "Сдвиг 18: абщуцгвгудп, эяъ хбдф\n",
      "Сдвиг 19: яаштхвбвтго, ьющ фагу\n",
      "Сдвиг 20: юячсфбабсвн, ыэш уявт\n",
      "Сдвиг 21: эюцруаяарбм, ъьч тюбс\n",
      "Сдвиг 22: ьэхптяюяпал, щыц сэар\n",
      "Сдвиг 23: ыьфосюэюояк, шъх рьяп\n",
      "Сдвиг 24: ъыунрэьэнюй, чщф пыюо\n",
      "Сдвиг 25: щътмпьыьмэи, цшу оъэн\n",
      "Сдвиг 26: шщслоыъыльз, хчт нщьм\n",
      "Сдвиг 27: чшркнъщъкыж, фцс мшыл\n",
      "Сдвиг 28: цчпймщшщйъе, ухр лчък\n",
      "Сдвиг 29: хцоилшчшищд, тфп кцщй\n",
      "Сдвиг 30: фхнзкчцчзшг, суо йхши\n",
      "Сдвиг 31: уфмжйцхцжчв, ртн ифчз\n"
     ]
    }
   ],
   "source": [
    "def decrypt_caesar(ciphertext, shift):\n",
    "    result = []\n",
    "    for char in ciphertext:\n",
    "        if char.isalpha():\n",
    "            is_upper = char.isupper()\n",
    "            char = char.lower()\n",
    "            char_code = ord(char)\n",
    "            char_code = (char_code - ord('а') - shift) % 32 + ord('а')\n",
    "            if char_code < ord('а'):\n",
    "                char_code += 32\n",
    "            if is_upper:\n",
    "                char = chr(char_code).upper()\n",
    "            else:\n",
    "                char = chr(char_code)\n",
    "        result.append(char)\n",
    "    return ''.join(result)\n",
    "\n",
    "def brute_force_caesar(ciphertext):\n",
    "    for shift in range(32):  # Шифр Цезаря имеет 32 возможных сдвига\n",
    "        decrypted_text = decrypt_caesar(ciphertext, shift)\n",
    "        print(f\"Сдвиг {shift}: {decrypted_text}\")\n",
    "\n",
    "def main():\n",
    "    ciphertext = input(\"Введите зашифрованный текст на русском языке: \")\n",
    "    brute_force_caesar(ciphertext)\n",
    "\n",
    "if __name__ == \"__main__\":\n",
    "    main()\n"
   ]
  },
  {
   "attachments": {},
   "cell_type": "markdown",
   "metadata": {},
   "source": [
    "Усложнение шифра с помощью ключа"
   ]
  },
  {
   "cell_type": "code",
   "execution_count": 27,
   "metadata": {},
   "outputs": [
    {
     "name": "stdout",
     "output_type": "stream",
     "text": [
      "Зашифрованный текст: щюммуцыажэм, ршч иъбз\n",
      "Расшифрованный текст: приветствую, мой друг\n"
     ]
    }
   ],
   "source": [
    "def encrypt_caesar_with_keyphrase(text, keyphrase):\n",
    "    result = []\n",
    "    keyphrase = keyphrase.lower()\n",
    "    key_index = 0\n",
    "    for char in text:\n",
    "        if char.isalpha():\n",
    "            is_upper = char.isupper()\n",
    "            char = char.lower()\n",
    "            char_code = ord(char)\n",
    "            key_char = keyphrase[key_index % len(keyphrase)]\n",
    "            key_shift = ord(key_char) - ord('а')\n",
    "            char_code = (char_code - ord('а') + key_shift) % 32 + ord('а')\n",
    "            if is_upper:\n",
    "                char = chr(char_code).upper()\n",
    "            else:\n",
    "                char = chr(char_code)\n",
    "            key_index += 1\n",
    "        result.append(char)\n",
    "    return ''.join(result)\n",
    "\n",
    "def decrypt_caesar_with_keyphrase(ciphertext, keyphrase):\n",
    "    result = []\n",
    "    keyphrase = keyphrase.lower()\n",
    "    key_index = 0\n",
    "    for char in ciphertext:\n",
    "        if char.isalpha():\n",
    "            is_upper = char.isupper()\n",
    "            char = char.lower()\n",
    "            char_code = ord(char)\n",
    "            key_char = keyphrase[key_index % len(keyphrase)]\n",
    "            key_shift = ord(key_char) - ord('а')\n",
    "            char_code = (char_code - ord('а') - key_shift) % 32 + ord('а')\n",
    "            if char_code < ord('а'):\n",
    "                char_code += 32\n",
    "            if is_upper:\n",
    "                char = chr(char_code).upper()\n",
    "            else:\n",
    "                char = chr(char_code)\n",
    "            key_index += 1\n",
    "        result.append(char)\n",
    "    return ''.join(result)\n",
    "\n",
    "def main():\n",
    "    text = input(\"Введите текст: \")\n",
    "    keyphrase = input(\"Введите ключевую фразу: \")\n",
    "\n",
    "    encrypted_text = encrypt_caesar_with_keyphrase(text, keyphrase)\n",
    "    decrypted_text = decrypt_caesar_with_keyphrase(encrypted_text, keyphrase)\n",
    "\n",
    "    print(\"Зашифрованный текст:\", encrypted_text)\n",
    "    print(\"Расшифрованный текст:\", decrypted_text)\n",
    "\n",
    "if __name__ == \"__main__\":\n",
    "    main()\n"
   ]
  }
 ],
 "metadata": {
  "kernelspec": {
   "display_name": "Python 3",
   "language": "python",
   "name": "python3"
  },
  "language_info": {
   "codemirror_mode": {
    "name": "ipython",
    "version": 3
   },
   "file_extension": ".py",
   "mimetype": "text/x-python",
   "name": "python",
   "nbconvert_exporter": "python",
   "pygments_lexer": "ipython3",
   "version": "3.11.5"
  },
  "orig_nbformat": 4
 },
 "nbformat": 4,
 "nbformat_minor": 2
}
