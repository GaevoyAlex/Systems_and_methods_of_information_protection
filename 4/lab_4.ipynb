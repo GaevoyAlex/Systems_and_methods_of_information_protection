{
 "cells": [
  {
   "cell_type": "code",
   "execution_count": 29,
   "metadata": {},
   "outputs": [
    {
     "name": "stdout",
     "output_type": "stream",
     "text": [
      "Примитивный элемент g: 7\n",
      "Приватный ключ a: 4629\n",
      "Публичный ключ A: 1575\n"
     ]
    }
   ],
   "source": [
    "import random\n",
    "\n",
    "def is_primitive_element(g, p):\n",
    "    powers = set()\n",
    "    for i in range(1, p):\n",
    "        power = pow(g, i, p)\n",
    "        if power in powers:\n",
    "            return False\n",
    "        powers.add(power)\n",
    "    return True\n",
    "\n",
    "def find_primitive_element(p):\n",
    "    for g in range(2, p):\n",
    "        if is_primitive_element(g, p):\n",
    "            return g\n",
    "\n",
    "def generate_shared_secret(p):\n",
    "    g = find_primitive_element(p)\n",
    "    private_key = random.randint(1, p-1)\n",
    "    public_key = pow(g, private_key, p)\n",
    "    return g, private_key, public_key\n",
    "\n",
    "P = 7489\n",
    "g, private_key, public_key = generate_shared_secret(P)\n",
    "\n",
    "print(\"Примитивный элемент g:\", g)\n",
    "print(\"Приватный ключ a:\", private_key)\n",
    "print(\"Публичный ключ A:\", public_key)"
   ]
  }
 ],
 "metadata": {
  "kernelspec": {
   "display_name": "Python 3",
   "language": "python",
   "name": "python3"
  },
  "language_info": {
   "codemirror_mode": {
    "name": "ipython",
    "version": 3
   },
   "file_extension": ".py",
   "mimetype": "text/x-python",
   "name": "python",
   "nbconvert_exporter": "python",
   "pygments_lexer": "ipython3",
   "version": "3.11.5"
  },
  "orig_nbformat": 4
 },
 "nbformat": 4,
 "nbformat_minor": 2
}
